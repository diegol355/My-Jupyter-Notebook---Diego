{
 "cells": [
  {
   "cell_type": "markdown",
   "id": "0fb2efd3-c8a0-4751-8489-d9449bfdd447",
   "metadata": {},
   "source": [
    "# My Jupyter Notebook on IBM Watson Studio\n",
    "---"
   ]
  },
  {
   "cell_type": "markdown",
   "id": "3585c423-0794-477e-b565-246373e46c43",
   "metadata": {
    "tags": []
   },
   "source": [
    "__Diego Lara__\n",
    "----\n",
    "Data Scientist"
   ]
  },
  {
   "cell_type": "markdown",
   "id": "e8cd1250-4cc7-443b-aeb6-9fd0bd5dfc58",
   "metadata": {},
   "source": [
    "_I am interested in data science because I want to gather insight on data to solve various problems._ "
   ]
  },
  {
   "cell_type": "markdown",
   "id": "0cd8f3e7-61ba-4e23-909f-69e2d14261b1",
   "metadata": {},
   "source": [
    "### The following code adds any two numbers together."
   ]
  },
  {
   "cell_type": "code",
   "execution_count": 3,
   "id": "7f80c180-4644-4054-8d43-544f9ad1b099",
   "metadata": {},
   "outputs": [
    {
     "data": {
      "text/plain": [
       "2"
      ]
     },
     "execution_count": 3,
     "metadata": {},
     "output_type": "execute_result"
    }
   ],
   "source": [
    "(1+1)"
   ]
  },
  {
   "cell_type": "markdown",
   "id": "923c8c10-cd40-4d81-9caa-07ecb53e3e7c",
   "metadata": {},
   "source": [
    "* Subaru\n",
    "* Mitsubishi\n",
    "* Nissan\n",
    "* Toyota\n",
    "----\n",
    "1. Subaru\n",
    "2. Mitsubishi\n",
    "3. Nissan\n",
    "4. Toyota\n",
    "----"
   ]
  },
  {
   "cell_type": "markdown",
   "id": "5a9c1e3f-e1b6-4348-9ce7-31950632c1ee",
   "metadata": {},
   "source": [
    "| Cars | Year | Trans | MPG |\n",
    "|------|------|-------|-----|\n",
    "|Subaru|1999|Manual|18.9|\n",
    "|Mitsubishi|2004|Manual|22.3|\n",
    "|Nissan|1999|Manual|25.8|\n",
    "|Toyota|1998|Automatic|27.9|\n"
   ]
  },
  {
   "cell_type": "code",
   "execution_count": null,
   "id": "ff37870e-c92b-4c0a-8fca-32d9f6e44782",
   "metadata": {},
   "outputs": [],
   "source": []
  }
 ],
 "metadata": {
  "kernelspec": {
   "display_name": "Python",
   "language": "python",
   "name": "conda-env-python-py"
  },
  "language_info": {
   "codemirror_mode": {
    "name": "ipython",
    "version": 3
   },
   "file_extension": ".py",
   "mimetype": "text/x-python",
   "name": "python",
   "nbconvert_exporter": "python",
   "pygments_lexer": "ipython3",
   "version": "3.7.12"
  }
 },
 "nbformat": 4,
 "nbformat_minor": 5
}
